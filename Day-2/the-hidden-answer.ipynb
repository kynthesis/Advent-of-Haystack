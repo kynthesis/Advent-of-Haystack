{
 "cells": [
  {
   "cell_type": "code",
   "execution_count": 1,
   "metadata": {},
   "outputs": [],
   "source": [
    "from getpass import getpass\n",
    "\n",
    "openai_api_key = getpass(\"Enter OpenAI Api key: \")"
   ]
  },
  {
   "cell_type": "code",
   "execution_count": 2,
   "metadata": {},
   "outputs": [],
   "source": [
    "from haystack.components.fetchers.link_content import LinkContentFetcher\n",
    "from haystack.components.converters import HTMLToDocument\n",
    "from haystack.components.preprocessors import DocumentSplitter\n",
    "\n",
    "fetcher = LinkContentFetcher()\n",
    "converter = HTMLToDocument()\n",
    "splitter = DocumentSplitter(split_length=100, split_overlap=5)"
   ]
  },
  {
   "cell_type": "code",
   "execution_count": 3,
   "metadata": {},
   "outputs": [],
   "source": [
    "from haystack.components.rankers import TransformersSimilarityRanker\n",
    "from haystack.components.generators.openai import OpenAIGenerator\n",
    "\n",
    "ranker = TransformersSimilarityRanker()\n",
    "ranker.warm_up()\n",
    "\n",
    "generator = OpenAIGenerator(api_key=openai_api_key)"
   ]
  },
  {
   "cell_type": "code",
   "execution_count": 4,
   "metadata": {},
   "outputs": [],
   "source": [
    "from haystack.components.builders.prompt_builder import PromptBuilder\n",
    "\n",
    "prompt_template = \"\"\"\n",
    "According to these documents:\n",
    "\n",
    "{% for document in documents %}\n",
    "    {{ document.content }}\n",
    "{% endfor %}\n",
    "\n",
    "Answer the given question: {{ question }}\n",
    "Answer:\n",
    "\"\"\"\n",
    "\n",
    "prompt_builder = PromptBuilder(template=prompt_template)"
   ]
  },
  {
   "cell_type": "code",
   "execution_count": 5,
   "metadata": {},
   "outputs": [],
   "source": [
    "from haystack import Pipeline\n",
    "\n",
    "pipeline = Pipeline()\n",
    "\n",
    "pipeline.add_component(\"fetcher\", fetcher)\n",
    "pipeline.add_component(\"converter\", converter)\n",
    "pipeline.add_component(\"splitter\", splitter)\n",
    "pipeline.add_component(\"ranker\", ranker)\n",
    "pipeline.add_component(\"prompt_builder\", prompt_builder)\n",
    "pipeline.add_component(\"generator\", generator)\n",
    "\n",
    "pipeline.connect(\"fetcher.streams\", \"converter.sources\")\n",
    "pipeline.connect(\"converter.documents\", \"splitter.documents\")\n",
    "pipeline.connect(\"splitter.documents\", \"ranker.documents\")\n",
    "pipeline.connect(\"ranker.documents\", \"prompt_builder.documents\")\n",
    "pipeline.connect(\"prompt_builder.prompt\", \"generator.prompt\")"
   ]
  },
  {
   "cell_type": "code",
   "execution_count": 6,
   "metadata": {},
   "outputs": [
    {
     "name": "stdout",
     "output_type": "stream",
     "text": [
      "The favorite animal of the Haystack elves is a capybara.\n"
     ]
    }
   ],
   "source": [
    "question = \"What is our favorite animal?\"\n",
    "\n",
    "result = pipeline.run({\n",
    "    \"prompt_builder\": {\"question\": question},\n",
    "    \"ranker\": {\"query\": question},\n",
    "    \"fetcher\": {\"urls\": [\"https://haystack.deepset.ai/advent-of-haystack/day-1#challenge\"]},\n",
    "})\n",
    "\n",
    "print(result[\"generator\"][\"replies\"][0])"
   ]
  },
  {
   "cell_type": "code",
   "execution_count": 7,
   "metadata": {},
   "outputs": [],
   "source": [
    "pipeline.draw(\"pipeline.png\")"
   ]
  }
 ],
 "metadata": {
  "kernelspec": {
   "display_name": "haystack",
   "language": "python",
   "name": "python3"
  },
  "language_info": {
   "codemirror_mode": {
    "name": "ipython",
    "version": 3
   },
   "file_extension": ".py",
   "mimetype": "text/x-python",
   "name": "python",
   "nbconvert_exporter": "python",
   "pygments_lexer": "ipython3",
   "version": "3.11.7"
  }
 },
 "nbformat": 4,
 "nbformat_minor": 2
}
