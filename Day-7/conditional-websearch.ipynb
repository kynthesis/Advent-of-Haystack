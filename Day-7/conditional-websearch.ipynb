{
 "cells": [
  {
   "cell_type": "code",
   "execution_count": 1,
   "metadata": {},
   "outputs": [],
   "source": [
    "from getpass import getpass\n",
    "\n",
    "openai_api_key = getpass(\"Enter OpenAI Api key: \")\n",
    "serper_api_key = getpass('Enter Serper Api key:')"
   ]
  },
  {
   "cell_type": "code",
   "execution_count": 2,
   "metadata": {},
   "outputs": [],
   "source": [
    "from haystack.dataclasses import Document\n",
    "\n",
    "documents = [\n",
    "    Document(\n",
    "        content=\"\"\"\n",
    "        Munich, the vibrant capital of Bavaria in southern Germany, exudes a perfect blend of rich cultural\n",
    "        heritage and modern urban sophistication. Nestled along the banks of the Isar River, Munich is renowned\n",
    "        for its splendid architecture, including the iconic Neues Rathaus (New Town Hall) at Marienplatz and\n",
    "        the grandeur of Nymphenburg Palace. The city is a haven for art enthusiasts, with world-class museums like the\n",
    "        Alte Pinakothek housing masterpieces by renowned artists. Munich is also famous for its lively beer gardens, where\n",
    "        locals and tourists gather to enjoy the city's famed beers and traditional Bavarian cuisine. The city's annual\n",
    "        Oktoberfest celebration, the world's largest beer festival, attracts millions of visitors from around the globe.\n",
    "        Beyond its cultural and culinary delights, Munich offers picturesque parks like the English Garden, providing a\n",
    "        serene escape within the heart of the bustling metropolis. Visitors are charmed by Munich's warm hospitality,\n",
    "        making it a must-visit destination for travelers seeking a taste of both old-world charm and contemporary allure.\n",
    "        \"\"\"\n",
    "    )\n",
    "]"
   ]
  },
  {
   "cell_type": "code",
   "execution_count": 3,
   "metadata": {},
   "outputs": [],
   "source": [
    "from haystack.components.builders.prompt_builder import PromptBuilder\n",
    "from haystack.components.generators.openai import OpenAIGenerator\n",
    "from haystack.components.websearch.serper_dev import SerperDevWebSearch\n",
    "\n",
    "prompt_template = \"\"\"\n",
    "Answer the following query given the douments.\n",
    "If the answer is not contained within the documents reply with 'no_answer'\n",
    "Query: {{ query }}\n",
    "Documents:\n",
    "{% for document in documents %}\n",
    "  {{ document.content }}\n",
    "{% endfor %}\n",
    "\"\"\"\n",
    "\n",
    "prompt_builder = PromptBuilder(template=prompt_template)\n",
    "llm = OpenAIGenerator(api_key=openai_api_key)\n",
    "\n",
    "websearch = SerperDevWebSearch(api_key=serper_api_key)\n",
    "\n",
    "prompt_builder_from_search = PromptBuilder(template=prompt_template)\n",
    "llm_from_search = OpenAIGenerator(api_key=openai_api_key)"
   ]
  },
  {
   "cell_type": "code",
   "execution_count": 4,
   "metadata": {},
   "outputs": [],
   "source": [
    "from haystack.components.routers import ConditionalRouter\n",
    "\n",
    "routes = [\n",
    "    {\n",
    "        \"condition\": \"{{'no_answer' in replies[0]}}\",\n",
    "        \"output\": \"{{query}}\",\n",
    "        \"output_name\": \"go_to_websearch\",\n",
    "        \"output_type\": str,\n",
    "    },\n",
    "    {\n",
    "        \"condition\": \"{{'no_answer' not in replies[0]}}\",\n",
    "        \"output\": \"{{replies[0]}}\",\n",
    "        \"output_name\": \"answer\",\n",
    "        \"output_type\": str,\n",
    "    },\n",
    "]\n",
    "\n",
    "router = ConditionalRouter(routes)"
   ]
  },
  {
   "cell_type": "code",
   "execution_count": 5,
   "metadata": {},
   "outputs": [],
   "source": [
    "from haystack import Pipeline\n",
    "\n",
    "\n",
    "pipe = Pipeline()\n",
    "pipe.add_component(\"prompt_builder\", prompt_builder)\n",
    "pipe.add_component(\"llm\", llm)\n",
    "pipe.add_component(\"router\", router)\n",
    "pipe.add_component(\"websearch\", websearch)\n",
    "pipe.add_component(\"prompt_builder_from_search\", prompt_builder_from_search)\n",
    "pipe.add_component(\"llm_from_search\", llm_from_search)\n",
    "\n",
    "pipe.connect(\"prompt_builder\", \"llm\")\n",
    "pipe.connect(\"llm.replies\", \"router.replies\")\n",
    "pipe.connect(\"router.go_to_websearch\", \"websearch.query\")\n",
    "pipe.connect(\"router.go_to_websearch\", \"prompt_builder_from_search.query\")\n",
    "pipe.connect(\"websearch.documents\", \"prompt_builder_from_search.documents\")\n",
    "pipe.connect(\"prompt_builder_from_search\", \"llm_from_search\")"
   ]
  },
  {
   "cell_type": "code",
   "execution_count": 6,
   "metadata": {},
   "outputs": [],
   "source": [
    "pipe.draw('pipeline.png')"
   ]
  },
  {
   "cell_type": "code",
   "execution_count": 7,
   "metadata": {},
   "outputs": [
    {
     "data": {
      "text/plain": [
       "{'llm': {'meta': [{'model': 'gpt-3.5-turbo-0613',\n",
       "    'index': 0,\n",
       "    'finish_reason': 'stop',\n",
       "    'usage': {'completion_tokens': 16,\n",
       "     'prompt_tokens': 271,\n",
       "     'total_tokens': 287}}]},\n",
       " 'router': {'answer': 'Munich is the capital of Bavaria and is located in southern Germany.'}}"
      ]
     },
     "execution_count": 7,
     "metadata": {},
     "output_type": "execute_result"
    }
   ],
   "source": [
    "query = \"Where is Munich?\"\n",
    "\n",
    "pipe.run({\"prompt_builder\":{\"query\": query, \"documents\": documents}, \"router\":{\"query\":query}})"
   ]
  },
  {
   "cell_type": "code",
   "execution_count": 9,
   "metadata": {},
   "outputs": [
    {
     "data": {
      "text/plain": [
       "{'llm': {'meta': [{'model': 'gpt-3.5-turbo-0613',\n",
       "    'index': 0,\n",
       "    'finish_reason': 'stop',\n",
       "    'usage': {'completion_tokens': 2,\n",
       "     'prompt_tokens': 274,\n",
       "     'total_tokens': 276}}]},\n",
       " 'websearch': {'links': ['https://en.wikipedia.org/wiki/Munich',\n",
       "   'https://worldpopulationreview.com/world-cities/munich-population',\n",
       "   'https://en.wikipedia.org/wiki/Demographics_of_Munich',\n",
       "   'https://www.macrotrends.net/cities/204371/munich/population',\n",
       "   'https://www.statista.com/statistics/519723/munich-population-by-age-group/',\n",
       "   'https://www.citypopulation.de/en/germany/bayern/m%C3%BCnchen_stadt/09162000__m%C3%BCnchen/',\n",
       "   'https://www.britannica.com/place/Munich-Bavaria-Germany',\n",
       "   'https://www.quora.com/How-many-people-live-in-Munich',\n",
       "   'https://earth.esa.int/web/earth-watching/image-of-the-week/content/-/article/munich-germany/',\n",
       "   'https://www.coe.int/en/web/interculturalcities/munich']},\n",
       " 'llm_from_search': {'replies': ['The answer is 1,456,039.'],\n",
       "  'meta': [{'model': 'gpt-3.5-turbo-0613',\n",
       "    'index': 0,\n",
       "    'finish_reason': 'stop',\n",
       "    'usage': {'completion_tokens': 10,\n",
       "     'prompt_tokens': 436,\n",
       "     'total_tokens': 446}}]}}"
      ]
     },
     "execution_count": 9,
     "metadata": {},
     "output_type": "execute_result"
    }
   ],
   "source": [
    "query = \"How many people live in Munich?\"\n",
    "pipe.run({\"prompt_builder\":{\"query\": query, \"documents\": documents}, \"router\":{\"query\":query}})"
   ]
  }
 ],
 "metadata": {
  "kernelspec": {
   "display_name": "haystack",
   "language": "python",
   "name": "python3"
  },
  "language_info": {
   "codemirror_mode": {
    "name": "ipython",
    "version": 3
   },
   "file_extension": ".py",
   "mimetype": "text/x-python",
   "name": "python",
   "nbconvert_exporter": "python",
   "pygments_lexer": "ipython3",
   "version": "3.11.7"
  }
 },
 "nbformat": 4,
 "nbformat_minor": 2
}
