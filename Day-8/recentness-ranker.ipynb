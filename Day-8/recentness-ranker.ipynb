{
 "cells": [
  {
   "cell_type": "code",
   "execution_count": 1,
   "metadata": {},
   "outputs": [],
   "source": [
    "import datetime\n",
    "from haystack.dataclasses import Document\n",
    "\n",
    "documents = [\n",
    "    Document(\n",
    "        content=\"Decision: Prioritize Project A over Project B for the upcoming quarter. Rationale: Project A has a more immediate impact on client satisfaction. Action Items: Project teams to reallocate resources accordingly.\",\n",
    "        meta={\"date\": datetime.datetime(2023, 11, 10)},\n",
    "    ),\n",
    "    Document(\n",
    "        content=\"Decision: Revert back to the original plan, prioritizing Project B. Rationale: Client feedback and market analysis indicate higher long-term potential for Project B. Action Items: Project teams to readjust resources, and communicate changes to stakeholders.\",\n",
    "        meta={\"date\": datetime.datetime(2023, 11, 12)},\n",
    "    ),\n",
    "    Document(\n",
    "        content=\"Decision: Allocate 20% of the training budget to online courses. Rationale: Online courses offer cost-effective and flexible learning options. Action Items: HR to update the budget and communicate the changes to employees.\",\n",
    "        meta={\"date\": datetime.datetime(2023, 11, 11)},\n",
    "    ),\n",
    "]"
   ]
  },
  {
   "cell_type": "code",
   "execution_count": 2,
   "metadata": {},
   "outputs": [],
   "source": [
    "from getpass import getpass\n",
    "\n",
    "api_key = getpass(\"OpenAI Key: \")"
   ]
  },
  {
   "cell_type": "code",
   "execution_count": 3,
   "metadata": {},
   "outputs": [],
   "source": [
    "from haystack import Pipeline\n",
    "from haystack.components.builders.prompt_builder import PromptBuilder\n",
    "from haystack.components.generators import OpenAIGenerator\n",
    "\n",
    "prompt_template = \"\"\"\n",
    "You will be provided meeting notes in order. The order is from newest to oldest . Create\n",
    "a summary of the decisions, indicating the progression.\n",
    "\n",
    "Meeting notes in order or recency:\n",
    "{% for document in documents %}\n",
    "  \"Meeting Notes:\"\n",
    "  {{document.content}}\n",
    "{% endfor %}\n",
    "\"\"\"\n",
    "\n",
    "prompt_builder = PromptBuilder(template=prompt_template)\n",
    "llm = OpenAIGenerator(api_key=api_key)"
   ]
  },
  {
   "cell_type": "code",
   "execution_count": 4,
   "metadata": {},
   "outputs": [],
   "source": [
    "from typing import List, Optional\n",
    "from haystack import component\n",
    "\n",
    "@component\n",
    "class DateRanker():\n",
    "  def __init__(self, date_field: str = \"date\"):\n",
    "    self.date_field = date_field\n",
    "\n",
    "  @component.output_types(documents=List[Document])\n",
    "  def run(self, documents: List[Document], date_field: Optional[str] = None):\n",
    "    if date_field == None:\n",
    "      date_field = self.date_field\n",
    "\n",
    "    sorted_documents = sorted(documents, key=lambda x: x.meta[date_field], reverse=True)\n",
    "    return {\"documents\": sorted_documents}"
   ]
  },
  {
   "cell_type": "code",
   "execution_count": 5,
   "metadata": {},
   "outputs": [],
   "source": [
    "date_ranker = DateRanker()"
   ]
  },
  {
   "cell_type": "code",
   "execution_count": 6,
   "metadata": {},
   "outputs": [],
   "source": [
    "pipe = Pipeline()\n",
    "pipe.add_component(\"recentness\", date_ranker)\n",
    "pipe.add_component(\"prompt_builder\", prompt_builder)\n",
    "pipe.add_component(\"llm\", llm)\n",
    "\n",
    "pipe.connect(\"recentness.documents\", \"prompt_builder.documents\")\n",
    "pipe.connect(\"prompt_builder\", \"llm\")"
   ]
  },
  {
   "cell_type": "code",
   "execution_count": 7,
   "metadata": {},
   "outputs": [
    {
     "name": "stdout",
     "output_type": "stream",
     "text": [
      "The decisions made during the meetings progressed from prioritizing Project A over Project B for the upcoming quarter, to allocating 20% of the training budget to online courses, and finally reverting back to the original plan of prioritizing Project B. The rationale for the decisions changed based on client feedback, market analysis, and the immediate impact on client satisfaction. The action items included reallocation of resources, updating the budget, and communicating the changes to stakeholders and employees.\n"
     ]
    }
   ],
   "source": [
    "result = pipe.run(data={\"recentness\":{\"documents\": documents}})\n",
    "print(result['llm'][\"replies\"][0])"
   ]
  }
 ],
 "metadata": {
  "kernelspec": {
   "display_name": "haystack",
   "language": "python",
   "name": "python3"
  },
  "language_info": {
   "codemirror_mode": {
    "name": "ipython",
    "version": 3
   },
   "file_extension": ".py",
   "mimetype": "text/x-python",
   "name": "python",
   "nbconvert_exporter": "python",
   "pygments_lexer": "ipython3",
   "version": "3.11.7"
  }
 },
 "nbformat": 4,
 "nbformat_minor": 2
}
