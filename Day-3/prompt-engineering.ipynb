{
 "cells": [
  {
   "cell_type": "code",
   "execution_count": 1,
   "metadata": {},
   "outputs": [],
   "source": [
    "from haystack import Pipeline\n",
    "from haystack.document_stores.in_memory import InMemoryDocumentStore\n",
    "from haystack.components.fetchers import LinkContentFetcher\n",
    "from haystack.components.converters import HTMLToDocument\n",
    "from haystack.components.preprocessors import DocumentSplitter\n",
    "from haystack.components.embedders import SentenceTransformersDocumentEmbedder\n",
    "from haystack.components.writers import DocumentWriter\n",
    "\n",
    "document_store = InMemoryDocumentStore()\n",
    "\n",
    "fetcher = LinkContentFetcher()\n",
    "converter = HTMLToDocument()\n",
    "splitter = DocumentSplitter(split_length=100, split_overlap=5)\n",
    "embedder = SentenceTransformersDocumentEmbedder()\n",
    "writer = DocumentWriter(document_store=document_store)\n",
    "\n",
    "indexing_pipeline = Pipeline()\n",
    "indexing_pipeline.add_component(\"fetcher\", fetcher)\n",
    "indexing_pipeline.add_component(\"converter\", converter)\n",
    "indexing_pipeline.add_component(\"splitter\", splitter)\n",
    "indexing_pipeline.add_component(\"embedder\", embedder)\n",
    "indexing_pipeline.add_component(\"writer\", writer)\n",
    "\n",
    "indexing_pipeline.connect(\"fetcher\", \"converter\")\n",
    "indexing_pipeline.connect(\"converter\", \"splitter\")\n",
    "indexing_pipeline.connect(\"splitter\", \"embedder\")\n",
    "indexing_pipeline.connect(\"embedder\", \"writer\")"
   ]
  },
  {
   "cell_type": "code",
   "execution_count": 2,
   "metadata": {},
   "outputs": [
    {
     "data": {
      "application/vnd.jupyter.widget-view+json": {
       "model_id": "1e752d5bd3a5485998cc42102427996f",
       "version_major": 2,
       "version_minor": 0
      },
      "text/plain": [
       "Batches:   0%|          | 0/1 [00:00<?, ?it/s]"
      ]
     },
     "metadata": {},
     "output_type": "display_data"
    },
    {
     "data": {
      "text/plain": [
       "{'writer': {'documents_written': 5}}"
      ]
     },
     "execution_count": 2,
     "metadata": {},
     "output_type": "execute_result"
    }
   ],
   "source": [
    "indexing_pipeline.run(data={\"fetcher\":{\"urls\": [\"https://docs.haystack.deepset.ai/v2.0/docs/sentencetransformerstextembedder\", \"https://docs.haystack.deepset.ai/v2.0/docs/openaidocumentembedder\"]}})"
   ]
  },
  {
   "cell_type": "code",
   "execution_count": 3,
   "metadata": {},
   "outputs": [],
   "source": [
    "from getpass import getpass\n",
    "\n",
    "api_key = getpass(\"Enter OpenAI Api key: \")"
   ]
  },
  {
   "cell_type": "code",
   "execution_count": 23,
   "metadata": {},
   "outputs": [],
   "source": [
    "from haystack.components.embedders import SentenceTransformersTextEmbedder\n",
    "from haystack.components.retrievers.in_memory import InMemoryEmbeddingRetriever\n",
    "from haystack.components.builders.prompt_builder import PromptBuilder\n",
    "from haystack.components.generators.openai import OpenAIGenerator\n",
    "\n",
    "prompt_template = \"\"\"\n",
    "According to these documents:\n",
    "\n",
    "{% for document in documents %}\n",
    "    {{ document.content }} URL: {{ document.meta[\"url\"] }} \\n\n",
    "{% endfor %}\n",
    "\n",
    "Answer the given query: {{ query }}\n",
    "Answer:\n",
    "\"\"\"\n",
    "prompt_builder = PromptBuilder(prompt_template)\n",
    "\n",
    "embedder = SentenceTransformersTextEmbedder()\n",
    "retriever = InMemoryEmbeddingRetriever(document_store=document_store, top_k=2)\n",
    "generator = OpenAIGenerator(api_key=api_key)"
   ]
  },
  {
   "cell_type": "code",
   "execution_count": 24,
   "metadata": {},
   "outputs": [],
   "source": [
    "pipeline = Pipeline()\n",
    "pipeline.add_component(\"embedder\", embedder)\n",
    "pipeline.add_component(\"retriever\", retriever)\n",
    "pipeline.add_component(\"prompt_builder\", prompt_builder)\n",
    "pipeline.add_component(\"generator\", generator)\n",
    "\n",
    "pipeline.connect(\"embedder.embedding\", \"retriever.query_embedding\")\n",
    "pipeline.connect(\"retriever.documents\", \"prompt_builder.documents\")\n",
    "pipeline.connect(\"prompt_builder.prompt\", \"generator.prompt\")"
   ]
  },
  {
   "cell_type": "code",
   "execution_count": 25,
   "metadata": {},
   "outputs": [
    {
     "data": {
      "application/vnd.jupyter.widget-view+json": {
       "model_id": "c49a612d4024402484f77d490e63f8f9",
       "version_major": 2,
       "version_minor": 0
      },
      "text/plain": [
       "Batches:   0%|          | 0/1 [00:00<?, ?it/s]"
      ]
     },
     "metadata": {},
     "output_type": "display_data"
    },
    {
     "name": "stdout",
     "output_type": "stream",
     "text": [
      "To use the OpenAIDocumentEmbedder, you can follow these steps:\n",
      "\n",
      "1. Install the necessary libraries and dependencies.\n",
      "2. Set your OpenAI API key as an environment variable for authentication.\n",
      "3. Create a list of Documents that you want to embed.\n",
      "4. Instantiate the OpenAIDocumentEmbedder component.\n",
      "5. Use the `embed` method of the component to compute the embeddings of the Documents.\n",
      "6. The obtained embeddings will be stored in the `embedding` field of each Document.\n",
      "7. You can also add metadata to the Documents to improve retrieval.\n",
      "8. Optionally, you can specify a different OpenAI embedding model by referring to the OpenAI documentation for compatible models.\n",
      "9. When embedding a single string instead of a list of Documents, you should use the OpenAITextEmbedder.\n",
      "\n",
      "For more detailed information and code examples, you can refer to the official documentation of OpenAIDocumentEmbedder at the following URL: [OpenAIDocumentEmbedder Documentation](https://docs.haystack.deepset.ai/v2.0/docs/openaidocumentembedder)\n"
     ]
    }
   ],
   "source": [
    "query = \"How do I use the openai embedder?\"\n",
    "result = pipeline.run(data={\"embedder\": {\"text\": query}, \"prompt_builder\": {\"query\": query}})\n",
    "print(result[\"generator\"][\"replies\"][0])"
   ]
  }
 ],
 "metadata": {
  "kernelspec": {
   "display_name": "haystack",
   "language": "python",
   "name": "python3"
  },
  "language_info": {
   "codemirror_mode": {
    "name": "ipython",
    "version": 3
   },
   "file_extension": ".py",
   "mimetype": "text/x-python",
   "name": "python",
   "nbconvert_exporter": "python",
   "pygments_lexer": "ipython3",
   "version": "3.11.7"
  }
 },
 "nbformat": 4,
 "nbformat_minor": 2
}
