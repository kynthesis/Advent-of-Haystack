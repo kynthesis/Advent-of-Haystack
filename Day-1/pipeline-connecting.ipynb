{
 "cells": [
  {
   "cell_type": "code",
   "execution_count": 20,
   "metadata": {},
   "outputs": [],
   "source": [
    "from haystack.components.fetchers import LinkContentFetcher\n",
    "from haystack.components.converters import HTMLToDocument\n",
    "from haystack.components.preprocessors import DocumentSplitter\n",
    "\n",
    "fetcher = LinkContentFetcher()\n",
    "converter = HTMLToDocument()\n",
    "splitter = DocumentSplitter(split_length=100, split_overlap=5)"
   ]
  },
  {
   "cell_type": "code",
   "execution_count": 21,
   "metadata": {},
   "outputs": [],
   "source": [
    "from haystack.components.builders.prompt_builder import PromptBuilder\n",
    "\n",
    "template = \"\"\"Given the information below: \\n\n",
    "{% for document in documents %}\n",
    "    {{ document.content }}\n",
    "{% endfor %}\n",
    "Question: {{ question }}. \\n Answer:\"\"\"\n",
    "\n",
    "prompt_builder = PromptBuilder(template=template)"
   ]
  },
  {
   "cell_type": "code",
   "execution_count": 22,
   "metadata": {},
   "outputs": [],
   "source": [
    "import getpass\n",
    "from haystack.components.generators.openai import OpenAIGenerator\n",
    "\n",
    "openai_api_key = getpass.getpass(\"Enter OpenAI API key:\")\n",
    "\n",
    "llm = OpenAIGenerator(api_key=openai_api_key)"
   ]
  },
  {
   "cell_type": "code",
   "execution_count": 23,
   "metadata": {},
   "outputs": [],
   "source": [
    "from haystack import Pipeline\n",
    "\n",
    "pipeline = Pipeline()\n",
    "pipeline.add_component(\"fetcher\", fetcher)\n",
    "pipeline.add_component(\"converter\", converter)\n",
    "pipeline.add_component(\"splitter\", splitter)\n",
    "pipeline.add_component(\"prompt_builder\", prompt_builder)\n",
    "pipeline.add_component(\"llm\", llm)"
   ]
  },
  {
   "cell_type": "code",
   "execution_count": 24,
   "metadata": {},
   "outputs": [],
   "source": [
    "pipeline.connect(\"fetcher\", \"converter\")\n",
    "pipeline.connect(\"converter\", \"splitter\")\n",
    "pipeline.connect(\"splitter.documents\", \"prompt_builder.documents\")\n",
    "pipeline.connect(\"prompt_builder\", \"llm\")"
   ]
  },
  {
   "cell_type": "code",
   "execution_count": 25,
   "metadata": {},
   "outputs": [],
   "source": [
    "question_dict = {\n",
    "    \"urls\": [\"https://haystack.deepset.ai/blog/customizing-rag-to-summarize-hacker-news-posts-with-haystack2\"],\n",
    "    \"question\": \"How do you build a custom component?\",\n",
    "}\n",
    "\n",
    "\n",
    "result = pipeline.run(\n",
    "data={\n",
    "        \"fetcher\": {\"urls\": question_dict[\"urls\"]},\n",
    "        \"prompt_builder\": {\"question\": question_dict[\"question\"]},\n",
    "    },\n",
    "    debug=True,\n",
    ")"
   ]
  },
  {
   "cell_type": "code",
   "execution_count": 26,
   "metadata": {},
   "outputs": [
    {
     "name": "stdout",
     "output_type": "stream",
     "text": [
      "To build a custom component in Haystack 2.0, you need to follow these steps:\n",
      "\n",
      "1. Create a class that does the specific task you want the component to perform.\n",
      "\n",
      "2. Add the `@component` decorator to the class declaration. This decorator marks the class as a component.\n",
      "\n",
      "3. Define a `run` function within the class. This function represents the main functionality of the component.\n",
      "\n",
      "4. Use the `@component.output_types` decorator to specify the output the pipeline should expect from this component. You can define multiple outputs if needed.\n",
      "\n",
      "5. Implement the logic in the `run` function to perform the desired task.\n",
      "\n",
      "6. Optionally, you can add input parameters to the `run` function to make the component more flexible and customizable.\n",
      "\n",
      "7. Return the output of the component as a dictionary with the output names specified in the `@component.output_types` decorator.\n",
      "\n",
      "Here's an example of a custom component that fetches the latest posts from Hacker News:\n",
      "\n",
      "```\n",
      "from typing import List\n",
      "from haystack import component, Document\n",
      "import requests\n",
      "\n",
      "@component\n",
      "class HackernewsNewestFetcher():\n",
      "    @component.output_types(articles=List[Document])\n",
      "    def run(self, last_k: int):\n",
      "        newest_list = requests.get(url='https://hacker-news.firebaseio.com/v0/newstories.json?print=pretty')\n",
      "        articles = []\n",
      "        for id in newest_list.json()[0:last_k]:\n",
      "            article = requests.get(url=f\"https://hacker-news.firebaseio.com/v0/item/{id}.json?print=pretty\")\n",
      "            if 'url' in article.json():\n",
      "                articles.append(article.json()['url'])\n",
      "        \n",
      "        docs = []\n",
      "        for url in articles:\n",
      "            try:\n",
      "                # Use the newspaper package to crawl and get the contents of the URLs\n",
      "                article = Article(url)\n",
      "                article.download()\n",
      "                article.parse()\n",
      "                docs.append(Document(content=article.text, meta={'title': article.title, 'url': url}))\n",
      "            except:\n",
      "                print(f\"Couldn't download {url}, skipped\")\n",
      "        \n",
      "        return {'articles': docs}\n",
      "```\n",
      "\n",
      "In this example, the `HackernewsNewestFetcher` class is defined as a component using the `@component` decorator. It has a `run` function that fetches the latest posts from Hacker News API, crawls the contents of the URLs using the `newspaper` package, and returns a list of `Document` objects representing the articles.\n",
      "\n",
      "Note: This is just a simplified example, and you can customize and extend the functionality of your custom component based on your specific requirements.\n"
     ]
    }
   ],
   "source": [
    "print(result['llm']['replies'][0])"
   ]
  },
  {
   "cell_type": "code",
   "execution_count": 27,
   "metadata": {},
   "outputs": [],
   "source": [
    "pipeline.draw(\"pipeline.png\")"
   ]
  }
 ],
 "metadata": {
  "kernelspec": {
   "display_name": "haystack",
   "language": "python",
   "name": "python3"
  },
  "language_info": {
   "codemirror_mode": {
    "name": "ipython",
    "version": 3
   },
   "file_extension": ".py",
   "mimetype": "text/x-python",
   "name": "python",
   "nbconvert_exporter": "python",
   "pygments_lexer": "ipython3",
   "version": "3.11.7"
  }
 },
 "nbformat": 4,
 "nbformat_minor": 2
}
